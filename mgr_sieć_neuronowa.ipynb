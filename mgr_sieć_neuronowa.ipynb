{
  "nbformat": 4,
  "nbformat_minor": 0,
  "metadata": {
    "colab": {
      "name": "mgr-sieć neuronowa.ipynb",
      "provenance": [],
      "toc_visible": true,
      "mount_file_id": "1YugnhnU7WBA46TK_lUPgkS0RM_m6BTzB",
      "authorship_tag": "ABX9TyMYW2KjZ6G/LZmkwG6QSey9",
      "include_colab_link": true
    },
    "kernelspec": {
      "display_name": "Python 3",
      "name": "python3"
    },
    "language_info": {
      "name": "python"
    }
  },
  "cells": [
    {
      "cell_type": "markdown",
      "metadata": {
        "id": "view-in-github",
        "colab_type": "text"
      },
      "source": [
        "<a href=\"https://colab.research.google.com/github/zuzannazak/MgrSarcasm/blob/master/mgr_sie%C4%87_neuronowa.ipynb\" target=\"_parent\"><img src=\"https://colab.research.google.com/assets/colab-badge.svg\" alt=\"Open In Colab\"/></a>"
      ]
    },
    {
      "cell_type": "code",
      "metadata": {
        "id": "I-nYxpUDUNZ9"
      },
      "source": [
        "import json\n",
        "import tensorflow as tf\n",
        "import requests\n",
        "import numpy as np\n",
        "import pandas as pd\n",
        "from tensorflow.keras.preprocessing.text import Tokenizer\n",
        "from tensorflow.keras.preprocessing.sequence import pad_sequences\n",
        "from tensorflow.keras.layers import LeakyReLU\n",
        "import csv\n",
        "\n",
        "#Sources that i don't want to keep looking for:\n",
        "#  https://towardsdatascience.com/tensorflow-sarcasm-detection-in-20-mins-b549311b9e91\n",
        "#  https://medium.com/analytics-vidhya/sarcasm-detection-with-neural-networks-1509578bb17b \n",
        "#  https://towardsdatascience.com/7-popular-activation-functions-you-should-know-in-deep-learning-and-how-to-use-them-with-keras-and-27b4d838dfe6\n",
        "#  https://www.tensorflow.org/api_docs/python/tf/keras/layers/Dense"
      ],
      "execution_count": null,
      "outputs": []
    },
    {
      "cell_type": "code",
      "metadata": {
        "id": "RSJMq39XG0te"
      },
      "source": [
        "sentences = []\n",
        "labels = []\n",
        "\n",
        "with open('/content/drive/MyDrive/STUDIA/train-balanced.csv', 'r') as file:\n",
        "    reader = csv.reader(file, delimiter='\\t')\n",
        "    for row in reader:\n",
        "        labels.append(row[0])\n",
        "        sentences.append(row[1])"
      ],
      "execution_count": null,
      "outputs": []
    },
    {
      "cell_type": "code",
      "metadata": {
        "colab": {
          "base_uri": "https://localhost:8080/"
        },
        "id": "UBGht0TxHagU",
        "outputId": "7fbd1a90-2ecc-4e56-b31b-335fa257ba1e"
      },
      "source": [
        "print(pd.DataFrame({'sentence' : sentences[0:10], 'label':labels[0:10]}))"
      ],
      "execution_count": null,
      "outputs": [
        {
          "output_type": "stream",
          "text": [
            "                                            sentence label\n",
            "0                                   Dang dog, thanks     0\n",
            "1  to summon the powers of the flying spaghetti m...     0\n",
            "2       i did that 3rd last 1 by accident last night     0\n",
            "3  He's insane, used him in DC, better than Blake...     0\n",
            "4  Forgot about him, he's a pretty pointless card...     0\n",
            "5                                                hey     0\n",
            "6                                              yeah?     0\n",
            "7                                               okay     0\n",
            "8                                      Condensation?     0\n",
            "9                                What type of juice?     0\n"
          ],
          "name": "stdout"
        }
      ]
    },
    {
      "cell_type": "code",
      "metadata": {
        "id": "OaZ9EAOetmPO"
      },
      "source": [
        "# Splitting the dataset into Train and Test\n",
        "training_size = round(len(sentences) * .75)\n",
        "training_sentences = sentences[0:training_size]\n",
        "testing_sentences = sentences[training_size:]\n",
        "training_labels = labels[0:training_size]\n",
        "testing_labels = labels[training_size:]"
      ],
      "execution_count": null,
      "outputs": []
    },
    {
      "cell_type": "code",
      "metadata": {
        "id": "TUaeISEVgRx1"
      },
      "source": [
        "# Setting tokenizer properties\n",
        "vocab_size = 50000\n",
        "oov_tok = \"<oov>\""
      ],
      "execution_count": null,
      "outputs": []
    },
    {
      "cell_type": "code",
      "metadata": {
        "id": "SRdvL9XRgTCT"
      },
      "source": [
        "# Fit the tokenizer on Training data\n",
        "tokenizer = Tokenizer(num_words=vocab_size, oov_token=oov_tok)\n",
        "tokenizer.fit_on_texts(training_sentences)\n",
        "word_index = tokenizer.word_index"
      ],
      "execution_count": null,
      "outputs": []
    },
    {
      "cell_type": "code",
      "metadata": {
        "id": "etJBM_TlgVVi"
      },
      "source": [
        "# Setting the padding properties\n",
        "max_length = 200\n",
        "trunc_type='post'\n",
        "padding_type='post'"
      ],
      "execution_count": null,
      "outputs": []
    },
    {
      "cell_type": "code",
      "metadata": {
        "id": "A8KSbiMsgXtp"
      },
      "source": [
        "# Creating padded sequences from train and test data\n",
        "training_sequences = tokenizer.texts_to_sequences(training_sentences)\n",
        "training_padded = pad_sequences(training_sequences, maxlen=max_length, padding=padding_type, truncating=trunc_type)\n",
        "testing_sequences = tokenizer.texts_to_sequences(testing_sentences)\n",
        "testing_padded = pad_sequences(testing_sequences, maxlen=max_length, padding=padding_type, truncating=trunc_type)"
      ],
      "execution_count": null,
      "outputs": []
    },
    {
      "cell_type": "code",
      "metadata": {
        "colab": {
          "base_uri": "https://localhost:8080/"
        },
        "id": "C0Kn018hgamY",
        "outputId": "274029f5-3244-4ac3-be6b-84fcb04ef7e0"
      },
      "source": [
        "# Setting the model parameters\n",
        "embedding_dim = 16\n",
        "leaky_relu = LeakyReLU(alpha=0.01)\n",
        "model = tf.keras.Sequential([\n",
        "    tf.keras.layers.Embedding(vocab_size, embedding_dim, input_length=max_length),\n",
        "    tf.keras.layers.GlobalAveragePooling1D(),\n",
        "    tf.keras.layers.Dense(50, activation=leaky_relu),\n",
        "    #tf.keras.layers.Dense(20, activation='relu'),\n",
        "    tf.keras.layers.Dense(1, activation='sigmoid')\n",
        "])\n",
        "model.compile(loss='binary_crossentropy',optimizer='adam',metrics=['accuracy'])\n",
        "model.summary()"
      ],
      "execution_count": null,
      "outputs": [
        {
          "output_type": "stream",
          "text": [
            "Model: \"sequential_1\"\n",
            "_________________________________________________________________\n",
            "Layer (type)                 Output Shape              Param #   \n",
            "=================================================================\n",
            "embedding_3 (Embedding)      (None, 200, 16)           800000    \n",
            "_________________________________________________________________\n",
            "global_average_pooling1d_3 ( (None, 16)                0         \n",
            "_________________________________________________________________\n",
            "dense_5 (Dense)              (None, 50)                850       \n",
            "_________________________________________________________________\n",
            "dense_6 (Dense)              (None, 1)                 51        \n",
            "=================================================================\n",
            "Total params: 800,901\n",
            "Trainable params: 800,901\n",
            "Non-trainable params: 0\n",
            "_________________________________________________________________\n"
          ],
          "name": "stdout"
        }
      ]
    },
    {
      "cell_type": "code",
      "metadata": {
        "colab": {
          "base_uri": "https://localhost:8080/"
        },
        "id": "o5MzVyFmgcqj",
        "outputId": "8956c348-4286-4788-dd99-a34623ad34fc"
      },
      "source": [
        "# Converting the lists to numpy arrays for Tensorflow 2.x\n",
        "training_padded = np.array(training_padded)\n",
        "training_labels = np.array(training_labels, dtype='int32')\n",
        "testing_padded = np.array(testing_padded)\n",
        "testing_labels = np.array(testing_labels, dtype='int32')\n",
        "\n",
        "print(training_padded.dtype)"
      ],
      "execution_count": null,
      "outputs": [
        {
          "output_type": "stream",
          "text": [
            "int32\n"
          ],
          "name": "stdout"
        }
      ]
    },
    {
      "cell_type": "code",
      "metadata": {
        "colab": {
          "base_uri": "https://localhost:8080/"
        },
        "id": "5EgjDrSVHkZG",
        "outputId": "3de922f3-896e-4428-852a-2590d37faa40"
      },
      "source": [
        "# # Training the model\n",
        "num_epochs = 40\n",
        "history = model.fit(training_padded, training_labels, epochs=num_epochs, validation_data=(testing_padded, testing_labels), verbose=2)\n",
        "\n",
        "\n"
      ],
      "execution_count": null,
      "outputs": [
        {
          "output_type": "stream",
          "text": [
            "Epoch 1/40\n",
            "26384/26384 - 249s - loss: 0.6032 - accuracy: 0.6704 - val_loss: 0.5738 - val_accuracy: 0.6942\n",
            "Epoch 2/40\n",
            "26384/26384 - 239s - loss: 0.5705 - accuracy: 0.7031 - val_loss: 0.5717 - val_accuracy: 0.7006\n",
            "Epoch 3/40\n",
            "26384/26384 - 249s - loss: 0.5590 - accuracy: 0.7123 - val_loss: 0.5608 - val_accuracy: 0.7093\n",
            "Epoch 4/40\n",
            "26384/26384 - 240s - loss: 0.5498 - accuracy: 0.7185 - val_loss: 0.5632 - val_accuracy: 0.7053\n",
            "Epoch 5/40\n",
            "26384/26384 - 238s - loss: 0.5431 - accuracy: 0.7234 - val_loss: 0.5608 - val_accuracy: 0.7099\n",
            "Epoch 6/40\n",
            "26384/26384 - 250s - loss: 0.5377 - accuracy: 0.7270 - val_loss: 0.5886 - val_accuracy: 0.6906\n",
            "Epoch 7/40\n",
            "26384/26384 - 244s - loss: 0.5328 - accuracy: 0.7303 - val_loss: 0.5656 - val_accuracy: 0.7082\n",
            "Epoch 8/40\n",
            "26384/26384 - 243s - loss: 0.5282 - accuracy: 0.7338 - val_loss: 0.5698 - val_accuracy: 0.7046\n",
            "Epoch 9/40\n",
            "26384/26384 - 243s - loss: 0.5240 - accuracy: 0.7365 - val_loss: 0.5710 - val_accuracy: 0.7065\n",
            "Epoch 10/40\n",
            "26384/26384 - 242s - loss: 0.5196 - accuracy: 0.7397 - val_loss: 0.5716 - val_accuracy: 0.7065\n",
            "Epoch 11/40\n",
            "26384/26384 - 243s - loss: 0.5150 - accuracy: 0.7425 - val_loss: 0.5756 - val_accuracy: 0.7067\n",
            "Epoch 12/40\n",
            "26384/26384 - 243s - loss: 0.5107 - accuracy: 0.7458 - val_loss: 0.5863 - val_accuracy: 0.7004\n",
            "Epoch 13/40\n",
            "26384/26384 - 239s - loss: 0.5061 - accuracy: 0.7490 - val_loss: 0.5823 - val_accuracy: 0.7050\n",
            "Epoch 14/40\n",
            "26384/26384 - 238s - loss: 0.5015 - accuracy: 0.7520 - val_loss: 0.5944 - val_accuracy: 0.6972\n",
            "Epoch 15/40\n",
            "26384/26384 - 230s - loss: 0.4970 - accuracy: 0.7552 - val_loss: 0.5864 - val_accuracy: 0.7028\n",
            "Epoch 16/40\n",
            "26384/26384 - 236s - loss: 0.4923 - accuracy: 0.7578 - val_loss: 0.5885 - val_accuracy: 0.7046\n",
            "Epoch 17/40\n",
            "26384/26384 - 238s - loss: 0.4877 - accuracy: 0.7605 - val_loss: 0.6038 - val_accuracy: 0.6860\n",
            "Epoch 18/40\n",
            "26384/26384 - 242s - loss: 0.4833 - accuracy: 0.7637 - val_loss: 0.6093 - val_accuracy: 0.6957\n",
            "Epoch 19/40\n",
            "26384/26384 - 244s - loss: 0.4790 - accuracy: 0.7660 - val_loss: 0.6050 - val_accuracy: 0.6936\n",
            "Epoch 20/40\n",
            "26384/26384 - 247s - loss: 0.4742 - accuracy: 0.7698 - val_loss: 0.6089 - val_accuracy: 0.6977\n",
            "Epoch 21/40\n",
            "26384/26384 - 252s - loss: 0.4701 - accuracy: 0.7721 - val_loss: 0.6151 - val_accuracy: 0.6972\n",
            "Epoch 22/40\n",
            "26384/26384 - 243s - loss: 0.4658 - accuracy: 0.7747 - val_loss: 0.6181 - val_accuracy: 0.6910\n",
            "Epoch 23/40\n",
            "26384/26384 - 238s - loss: 0.4614 - accuracy: 0.7774 - val_loss: 0.6313 - val_accuracy: 0.6886\n",
            "Epoch 24/40\n",
            "26384/26384 - 238s - loss: 0.4577 - accuracy: 0.7797 - val_loss: 0.6317 - val_accuracy: 0.6933\n",
            "Epoch 25/40\n",
            "26384/26384 - 241s - loss: 0.4537 - accuracy: 0.7822 - val_loss: 0.6351 - val_accuracy: 0.6872\n",
            "Epoch 26/40\n",
            "26384/26384 - 239s - loss: 0.4503 - accuracy: 0.7843 - val_loss: 0.6444 - val_accuracy: 0.6861\n",
            "Epoch 27/40\n",
            "26384/26384 - 240s - loss: 0.4463 - accuracy: 0.7868 - val_loss: 0.6427 - val_accuracy: 0.6891\n",
            "Epoch 28/40\n",
            "26384/26384 - 237s - loss: 0.4427 - accuracy: 0.7890 - val_loss: 0.6555 - val_accuracy: 0.6878\n",
            "Epoch 29/40\n",
            "26384/26384 - 241s - loss: 0.4392 - accuracy: 0.7914 - val_loss: 0.6556 - val_accuracy: 0.6902\n",
            "Epoch 30/40\n",
            "26384/26384 - 246s - loss: 0.4355 - accuracy: 0.7933 - val_loss: 0.6625 - val_accuracy: 0.6880\n",
            "Epoch 31/40\n",
            "26384/26384 - 246s - loss: 0.4321 - accuracy: 0.7952 - val_loss: 0.6705 - val_accuracy: 0.6802\n",
            "Epoch 32/40\n",
            "26384/26384 - 241s - loss: 0.4287 - accuracy: 0.7970 - val_loss: 0.6717 - val_accuracy: 0.6787\n",
            "Epoch 33/40\n",
            "26384/26384 - 237s - loss: 0.4253 - accuracy: 0.7996 - val_loss: 0.6734 - val_accuracy: 0.6863\n",
            "Epoch 34/40\n",
            "26384/26384 - 241s - loss: 0.4219 - accuracy: 0.8013 - val_loss: 0.6830 - val_accuracy: 0.6836\n",
            "Epoch 35/40\n",
            "26384/26384 - 246s - loss: 0.4187 - accuracy: 0.8033 - val_loss: 0.6829 - val_accuracy: 0.6801\n",
            "Epoch 36/40\n",
            "26384/26384 - 248s - loss: 0.4153 - accuracy: 0.8052 - val_loss: 0.7009 - val_accuracy: 0.6777\n",
            "Epoch 37/40\n",
            "26384/26384 - 244s - loss: 0.4120 - accuracy: 0.8072 - val_loss: 0.7076 - val_accuracy: 0.6799\n",
            "Epoch 38/40\n",
            "26384/26384 - 247s - loss: 0.4089 - accuracy: 0.8088 - val_loss: 0.6984 - val_accuracy: 0.6786\n",
            "Epoch 39/40\n",
            "26384/26384 - 243s - loss: 0.4057 - accuracy: 0.8108 - val_loss: 0.7088 - val_accuracy: 0.6802\n",
            "Epoch 40/40\n",
            "26384/26384 - 245s - loss: 0.4028 - accuracy: 0.8123 - val_loss: 0.7098 - val_accuracy: 0.6818\n"
          ],
          "name": "stdout"
        }
      ]
    },
    {
      "cell_type": "code",
      "metadata": {
        "id": "xquPMRFenUW9",
        "colab": {
          "base_uri": "https://localhost:8080/",
          "height": 235
        },
        "outputId": "6b2f3e5a-f93d-41c3-9c29-01788b7b4a5c"
      },
      "source": [
        "sentence = [\"Yes, definitely\",\n",
        "            \"I like cats.\"]\n",
        "sequences = tokenizer.texts_to_sequences(sentence)\n",
        "padded = pad_sequences(sequences, maxlen=max_length, padding=padding_type, truncating=trunc_type)\n",
        "print(model.predict(padded))"
      ],
      "execution_count": null,
      "outputs": [
        {
          "output_type": "error",
          "ename": "NameError",
          "evalue": "ignored",
          "traceback": [
            "\u001b[0;31m---------------------------------------------------------------------------\u001b[0m",
            "\u001b[0;31mNameError\u001b[0m                                 Traceback (most recent call last)",
            "\u001b[0;32m<ipython-input-1-ed91147d1ba3>\u001b[0m in \u001b[0;36m<module>\u001b[0;34m()\u001b[0m\n\u001b[1;32m      1\u001b[0m sentence = [\"Yes, definitely\",\n\u001b[1;32m      2\u001b[0m             \"I like cats.\"]\n\u001b[0;32m----> 3\u001b[0;31m \u001b[0msequences\u001b[0m \u001b[0;34m=\u001b[0m \u001b[0mtokenizer\u001b[0m\u001b[0;34m.\u001b[0m\u001b[0mtexts_to_sequences\u001b[0m\u001b[0;34m(\u001b[0m\u001b[0msentence\u001b[0m\u001b[0;34m)\u001b[0m\u001b[0;34m\u001b[0m\u001b[0;34m\u001b[0m\u001b[0m\n\u001b[0m\u001b[1;32m      4\u001b[0m \u001b[0mpadded\u001b[0m \u001b[0;34m=\u001b[0m \u001b[0mpad_sequences\u001b[0m\u001b[0;34m(\u001b[0m\u001b[0msequences\u001b[0m\u001b[0;34m,\u001b[0m \u001b[0mmaxlen\u001b[0m\u001b[0;34m=\u001b[0m\u001b[0mmax_length\u001b[0m\u001b[0;34m,\u001b[0m \u001b[0mpadding\u001b[0m\u001b[0;34m=\u001b[0m\u001b[0mpadding_type\u001b[0m\u001b[0;34m,\u001b[0m \u001b[0mtruncating\u001b[0m\u001b[0;34m=\u001b[0m\u001b[0mtrunc_type\u001b[0m\u001b[0;34m)\u001b[0m\u001b[0;34m\u001b[0m\u001b[0;34m\u001b[0m\u001b[0m\n\u001b[1;32m      5\u001b[0m \u001b[0mprint\u001b[0m\u001b[0;34m(\u001b[0m\u001b[0mmodel\u001b[0m\u001b[0;34m.\u001b[0m\u001b[0mpredict\u001b[0m\u001b[0;34m(\u001b[0m\u001b[0mpadded\u001b[0m\u001b[0;34m)\u001b[0m\u001b[0;34m)\u001b[0m\u001b[0;34m\u001b[0m\u001b[0;34m\u001b[0m\u001b[0m\n",
            "\u001b[0;31mNameError\u001b[0m: name 'tokenizer' is not defined"
          ]
        }
      ]
    }
  ]
}