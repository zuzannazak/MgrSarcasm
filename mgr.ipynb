{
  "nbformat": 4,
  "nbformat_minor": 0,
  "metadata": {
    "colab": {
      "name": "mgr.ipynb",
      "provenance": [],
      "toc_visible": true,
      "mount_file_id": "1YugnhnU7WBA46TK_lUPgkS0RM_m6BTzB",
      "authorship_tag": "ABX9TyPOVla+R8QEvEtORfPRvLzz",
      "include_colab_link": true
    },
    "kernelspec": {
      "display_name": "Python 3",
      "name": "python3"
    },
    "language_info": {
      "name": "python"
    }
  },
  "cells": [
    {
      "cell_type": "markdown",
      "metadata": {
        "id": "view-in-github",
        "colab_type": "text"
      },
      "source": [
        "<a href=\"https://colab.research.google.com/github/zuzannazak/MgrSarcasm/blob/master/mgr.ipynb\" target=\"_parent\"><img src=\"https://colab.research.google.com/assets/colab-badge.svg\" alt=\"Open In Colab\"/></a>"
      ]
    },
    {
      "cell_type": "code",
      "metadata": {
        "id": "I-nYxpUDUNZ9"
      },
      "source": [
        "import json\n",
        "import tensorflow as tf\n",
        "import requests\n",
        "import numpy as np\n",
        "import pandas as pd\n",
        "from tensorflow.keras.preprocessing.text import Tokenizer\n",
        "from tensorflow.keras.preprocessing.sequence import pad_sequences\n",
        "import csv\n",
        "\n",
        "#Sources:\n",
        "#  https://towardsdatascience.com/tensorflow-sarcasm-detection-in-20-mins-b549311b9e91"
      ],
      "execution_count": 1,
      "outputs": []
    },
    {
      "cell_type": "code",
      "metadata": {
        "id": "RSJMq39XG0te"
      },
      "source": [
        "sentences = []\n",
        "labels = []\n",
        "\n",
        "with open('/content/drive/MyDrive/STUDIA/train-balanced.csv', 'r') as file:\n",
        "    reader = csv.reader(file, delimiter='\\t')\n",
        "    for row in reader:\n",
        "        labels.append(row[0])\n",
        "        sentences.append(row[1])"
      ],
      "execution_count": 2,
      "outputs": []
    },
    {
      "cell_type": "code",
      "metadata": {
        "colab": {
          "base_uri": "https://localhost:8080/"
        },
        "id": "UBGht0TxHagU",
        "outputId": "32084267-0414-4a32-b2fa-8835e0ad5622"
      },
      "source": [
        "print(pd.DataFrame({'sentence' : sentences[0:10], 'label':labels[0:10]}))"
      ],
      "execution_count": 3,
      "outputs": [
        {
          "output_type": "stream",
          "text": [
            "                                            sentence label\n",
            "0                                   Dang dog, thanks     0\n",
            "1  to summon the powers of the flying spaghetti m...     0\n",
            "2       i did that 3rd last 1 by accident last night     0\n",
            "3  He's insane, used him in DC, better than Blake...     0\n",
            "4  Forgot about him, he's a pretty pointless card...     0\n",
            "5                                                hey     0\n",
            "6                                              yeah?     0\n",
            "7                                               okay     0\n",
            "8                                      Condensation?     0\n",
            "9                                What type of juice?     0\n"
          ],
          "name": "stdout"
        }
      ]
    },
    {
      "cell_type": "code",
      "metadata": {
        "id": "OaZ9EAOetmPO"
      },
      "source": [
        "# Splitting the dataset into Train and Test\n",
        "training_size = round(len(sentences) * .75)\n",
        "training_sentences = sentences[0:training_size]\n",
        "testing_sentences = sentences[training_size:]\n",
        "training_labels = labels[0:training_size]\n",
        "testing_labels = labels[training_size:]"
      ],
      "execution_count": 5,
      "outputs": []
    },
    {
      "cell_type": "code",
      "metadata": {
        "id": "TUaeISEVgRx1"
      },
      "source": [
        "# Setting tokenizer properties\n",
        "vocab_size = 50000\n",
        "oov_tok = \"<oov>\""
      ],
      "execution_count": 6,
      "outputs": []
    },
    {
      "cell_type": "code",
      "metadata": {
        "id": "SRdvL9XRgTCT"
      },
      "source": [
        "# Fit the tokenizer on Training data\n",
        "tokenizer = Tokenizer(num_words=vocab_size, oov_token=oov_tok)\n",
        "tokenizer.fit_on_texts(training_sentences)\n",
        "word_index = tokenizer.word_index"
      ],
      "execution_count": 7,
      "outputs": []
    },
    {
      "cell_type": "code",
      "metadata": {
        "id": "etJBM_TlgVVi"
      },
      "source": [
        "# Setting the padding properties\n",
        "max_length = 200\n",
        "trunc_type='post'\n",
        "padding_type='post'"
      ],
      "execution_count": 8,
      "outputs": []
    },
    {
      "cell_type": "code",
      "metadata": {
        "id": "A8KSbiMsgXtp"
      },
      "source": [
        "# Creating padded sequences from train and test data\n",
        "training_sequences = tokenizer.texts_to_sequences(training_sentences)\n",
        "training_padded = pad_sequences(training_sequences, maxlen=max_length, padding=padding_type, truncating=trunc_type)\n",
        "testing_sequences = tokenizer.texts_to_sequences(testing_sentences)\n",
        "testing_padded = pad_sequences(testing_sequences, maxlen=max_length, padding=padding_type, truncating=trunc_type)"
      ],
      "execution_count": 9,
      "outputs": []
    },
    {
      "cell_type": "code",
      "metadata": {
        "colab": {
          "base_uri": "https://localhost:8080/"
        },
        "id": "C0Kn018hgamY",
        "outputId": "3e94ed2a-88d8-4fb5-b42a-f2fae3307288"
      },
      "source": [
        "# Setting the model parameters\n",
        "embedding_dim = 16\n",
        "model = tf.keras.Sequential([\n",
        "    tf.keras.layers.Embedding(vocab_size, embedding_dim, input_length=max_length),\n",
        "    tf.keras.layers.GlobalAveragePooling1D(),\n",
        "    tf.keras.layers.Dense(24, activation='relu'),\n",
        "    tf.keras.layers.Dense(1, activation='sigmoid')\n",
        "])\n",
        "model.compile(loss='binary_crossentropy',optimizer='adam',metrics=['accuracy'])\n",
        "model.summary()"
      ],
      "execution_count": 10,
      "outputs": [
        {
          "output_type": "stream",
          "text": [
            "Model: \"sequential\"\n",
            "_________________________________________________________________\n",
            "Layer (type)                 Output Shape              Param #   \n",
            "=================================================================\n",
            "embedding (Embedding)        (None, 200, 16)           800000    \n",
            "_________________________________________________________________\n",
            "global_average_pooling1d (Gl (None, 16)                0         \n",
            "_________________________________________________________________\n",
            "dense (Dense)                (None, 24)                408       \n",
            "_________________________________________________________________\n",
            "dense_1 (Dense)              (None, 1)                 25        \n",
            "=================================================================\n",
            "Total params: 800,433\n",
            "Trainable params: 800,433\n",
            "Non-trainable params: 0\n",
            "_________________________________________________________________\n"
          ],
          "name": "stdout"
        }
      ]
    },
    {
      "cell_type": "code",
      "metadata": {
        "colab": {
          "base_uri": "https://localhost:8080/"
        },
        "id": "o5MzVyFmgcqj",
        "outputId": "a990f06a-25f0-41ec-be46-74fa9968eee3"
      },
      "source": [
        "# Converting the lists to numpy arrays for Tensorflow 2.x\n",
        "training_padded = np.array(training_padded)\n",
        "training_labels = np.array(training_labels, dtype='int32')\n",
        "testing_padded = np.array(testing_padded)\n",
        "testing_labels = np.array(testing_labels, dtype='int32')\n",
        "\n",
        "print(training_padded.dtype)"
      ],
      "execution_count": 11,
      "outputs": [
        {
          "output_type": "stream",
          "text": [
            "int32\n"
          ],
          "name": "stdout"
        }
      ]
    },
    {
      "cell_type": "code",
      "metadata": {
        "colab": {
          "base_uri": "https://localhost:8080/"
        },
        "id": "5EgjDrSVHkZG",
        "outputId": "3093ce0a-9ff3-4d48-be7e-b51f62babc35"
      },
      "source": [
        "# # Training the model\n",
        "num_epochs = 10\n",
        "history = model.fit(training_padded, training_labels, epochs=num_epochs, validation_data=(testing_padded, testing_labels), verbose=2)\n",
        "\n",
        "\n"
      ],
      "execution_count": 12,
      "outputs": [
        {
          "output_type": "stream",
          "text": [
            "Epoch 1/10\n",
            "26384/26384 - 223s - loss: 0.6059 - accuracy: 0.6682 - val_loss: 0.5746 - val_accuracy: 0.6957\n",
            "Epoch 2/10\n",
            "26384/26384 - 228s - loss: 0.5734 - accuracy: 0.7004 - val_loss: 0.5769 - val_accuracy: 0.6947\n",
            "Epoch 3/10\n",
            "26384/26384 - 227s - loss: 0.5604 - accuracy: 0.7109 - val_loss: 0.5605 - val_accuracy: 0.7085\n",
            "Epoch 4/10\n",
            "26384/26384 - 218s - loss: 0.5518 - accuracy: 0.7172 - val_loss: 0.5664 - val_accuracy: 0.7054\n",
            "Epoch 5/10\n",
            "26384/26384 - 229s - loss: 0.5448 - accuracy: 0.7225 - val_loss: 0.5687 - val_accuracy: 0.7039\n",
            "Epoch 6/10\n",
            "26384/26384 - 240s - loss: 0.5392 - accuracy: 0.7262 - val_loss: 0.5630 - val_accuracy: 0.7100\n",
            "Epoch 7/10\n",
            "26384/26384 - 239s - loss: 0.5342 - accuracy: 0.7299 - val_loss: 0.5650 - val_accuracy: 0.7086\n",
            "Epoch 8/10\n",
            "26384/26384 - 234s - loss: 0.5298 - accuracy: 0.7329 - val_loss: 0.5736 - val_accuracy: 0.7029\n",
            "Epoch 9/10\n",
            "26384/26384 - 220s - loss: 0.5259 - accuracy: 0.7353 - val_loss: 0.5731 - val_accuracy: 0.7077\n",
            "Epoch 10/10\n",
            "26384/26384 - 225s - loss: 0.5220 - accuracy: 0.7384 - val_loss: 0.5963 - val_accuracy: 0.6926\n",
            "[[0.2925634 ]\n",
            " [0.23665822]]\n"
          ],
          "name": "stdout"
        }
      ]
    },
    {
      "cell_type": "code",
      "metadata": {
        "id": "xquPMRFenUW9"
      },
      "source": [
        "sentence = [\"Yes, definitely\",\n",
        "            \"I like cats.\"]\n",
        "sequences = tokenizer.texts_to_sequences(sentence)\n",
        "padded = pad_sequences(sequences, maxlen=max_length, padding=padding_type, truncating=trunc_type)\n",
        "print(model.predict(padded))"
      ],
      "execution_count": null,
      "outputs": []
    }
  ]
}