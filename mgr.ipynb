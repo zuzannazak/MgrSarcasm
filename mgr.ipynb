{
  "nbformat": 4,
  "nbformat_minor": 0,
  "metadata": {
    "colab": {
      "name": "mgr.ipynb",
      "provenance": [],
      "toc_visible": true,
      "mount_file_id": "1YugnhnU7WBA46TK_lUPgkS0RM_m6BTzB",
      "authorship_tag": "ABX9TyOfUdtIKn0BvVztKsNc9Bho",
      "include_colab_link": true
    },
    "kernelspec": {
      "display_name": "Python 3",
      "name": "python3"
    },
    "language_info": {
      "name": "python"
    }
  },
  "cells": [
    {
      "cell_type": "markdown",
      "metadata": {
        "id": "view-in-github",
        "colab_type": "text"
      },
      "source": [
        "<a href=\"https://colab.research.google.com/github/zuzannazak/MgrSarcasm/blob/master/mgr.ipynb\" target=\"_parent\"><img src=\"https://colab.research.google.com/assets/colab-badge.svg\" alt=\"Open In Colab\"/></a>"
      ]
    },
    {
      "cell_type": "code",
      "metadata": {
        "id": "I-nYxpUDUNZ9"
      },
      "source": [
        "import json\n",
        "import tensorflow as tf\n",
        "import requests\n",
        "import numpy as np\n",
        "import pandas as pd\n",
        "from tensorflow.keras.preprocessing.text import Tokenizer\n",
        "from tensorflow.keras.preprocessing.sequence import pad_sequences\n",
        "from tensorflow.keras.layers import LeakyReLU\n",
        "import csv\n",
        "\n",
        "#Sources:\n",
        "#  https://towardsdatascience.com/tensorflow-sarcasm-detection-in-20-mins-b549311b9e91"
      ],
      "execution_count": 13,
      "outputs": []
    },
    {
      "cell_type": "code",
      "metadata": {
        "id": "RSJMq39XG0te"
      },
      "source": [
        "sentences = []\n",
        "labels = []\n",
        "\n",
        "with open('/content/drive/MyDrive/STUDIA/train-balanced.csv', 'r') as file:\n",
        "    reader = csv.reader(file, delimiter='\\t')\n",
        "    for row in reader:\n",
        "        labels.append(row[0])\n",
        "        sentences.append(row[1])"
      ],
      "execution_count": 2,
      "outputs": []
    },
    {
      "cell_type": "code",
      "metadata": {
        "colab": {
          "base_uri": "https://localhost:8080/"
        },
        "id": "UBGht0TxHagU",
        "outputId": "7fbd1a90-2ecc-4e56-b31b-335fa257ba1e"
      },
      "source": [
        "print(pd.DataFrame({'sentence' : sentences[0:10], 'label':labels[0:10]}))"
      ],
      "execution_count": 3,
      "outputs": [
        {
          "output_type": "stream",
          "text": [
            "                                            sentence label\n",
            "0                                   Dang dog, thanks     0\n",
            "1  to summon the powers of the flying spaghetti m...     0\n",
            "2       i did that 3rd last 1 by accident last night     0\n",
            "3  He's insane, used him in DC, better than Blake...     0\n",
            "4  Forgot about him, he's a pretty pointless card...     0\n",
            "5                                                hey     0\n",
            "6                                              yeah?     0\n",
            "7                                               okay     0\n",
            "8                                      Condensation?     0\n",
            "9                                What type of juice?     0\n"
          ],
          "name": "stdout"
        }
      ]
    },
    {
      "cell_type": "code",
      "metadata": {
        "id": "OaZ9EAOetmPO"
      },
      "source": [
        "# Splitting the dataset into Train and Test\n",
        "training_size = round(len(sentences) * .75)\n",
        "training_sentences = sentences[0:training_size]\n",
        "testing_sentences = sentences[training_size:]\n",
        "training_labels = labels[0:training_size]\n",
        "testing_labels = labels[training_size:]"
      ],
      "execution_count": 3,
      "outputs": []
    },
    {
      "cell_type": "code",
      "metadata": {
        "id": "TUaeISEVgRx1"
      },
      "source": [
        "# Setting tokenizer properties\n",
        "vocab_size = 50000\n",
        "oov_tok = \"<oov>\""
      ],
      "execution_count": 4,
      "outputs": []
    },
    {
      "cell_type": "code",
      "metadata": {
        "id": "SRdvL9XRgTCT"
      },
      "source": [
        "# Fit the tokenizer on Training data\n",
        "tokenizer = Tokenizer(num_words=vocab_size, oov_token=oov_tok)\n",
        "tokenizer.fit_on_texts(training_sentences)\n",
        "word_index = tokenizer.word_index"
      ],
      "execution_count": 5,
      "outputs": []
    },
    {
      "cell_type": "code",
      "metadata": {
        "id": "etJBM_TlgVVi"
      },
      "source": [
        "# Setting the padding properties\n",
        "max_length = 200\n",
        "trunc_type='post'\n",
        "padding_type='post'"
      ],
      "execution_count": 6,
      "outputs": []
    },
    {
      "cell_type": "code",
      "metadata": {
        "id": "A8KSbiMsgXtp"
      },
      "source": [
        "# Creating padded sequences from train and test data\n",
        "training_sequences = tokenizer.texts_to_sequences(training_sentences)\n",
        "training_padded = pad_sequences(training_sequences, maxlen=max_length, padding=padding_type, truncating=trunc_type)\n",
        "testing_sequences = tokenizer.texts_to_sequences(testing_sentences)\n",
        "testing_padded = pad_sequences(testing_sequences, maxlen=max_length, padding=padding_type, truncating=trunc_type)"
      ],
      "execution_count": 7,
      "outputs": []
    },
    {
      "cell_type": "code",
      "metadata": {
        "colab": {
          "base_uri": "https://localhost:8080/"
        },
        "id": "C0Kn018hgamY",
        "outputId": "274029f5-3244-4ac3-be6b-84fcb04ef7e0"
      },
      "source": [
        "# Setting the model parameters\n",
        "embedding_dim = 16\n",
        "leaky_relu = LeakyReLU(alpha=0.01)\n",
        "model = tf.keras.Sequential([\n",
        "    tf.keras.layers.Embedding(vocab_size, embedding_dim, input_length=max_length),\n",
        "    tf.keras.layers.GlobalAveragePooling1D(),\n",
        "    tf.keras.layers.Dense(50, activation=leaky_relu),\n",
        "    #tf.keras.layers.Dense(20, activation='relu'),\n",
        "    tf.keras.layers.Dense(1, activation='sigmoid')\n",
        "])\n",
        "model.compile(loss='binary_crossentropy',optimizer='adam',metrics=['accuracy'])\n",
        "model.summary()"
      ],
      "execution_count": 15,
      "outputs": [
        {
          "output_type": "stream",
          "text": [
            "Model: \"sequential_1\"\n",
            "_________________________________________________________________\n",
            "Layer (type)                 Output Shape              Param #   \n",
            "=================================================================\n",
            "embedding_3 (Embedding)      (None, 200, 16)           800000    \n",
            "_________________________________________________________________\n",
            "global_average_pooling1d_3 ( (None, 16)                0         \n",
            "_________________________________________________________________\n",
            "dense_5 (Dense)              (None, 50)                850       \n",
            "_________________________________________________________________\n",
            "dense_6 (Dense)              (None, 1)                 51        \n",
            "=================================================================\n",
            "Total params: 800,901\n",
            "Trainable params: 800,901\n",
            "Non-trainable params: 0\n",
            "_________________________________________________________________\n"
          ],
          "name": "stdout"
        }
      ]
    },
    {
      "cell_type": "code",
      "metadata": {
        "colab": {
          "base_uri": "https://localhost:8080/"
        },
        "id": "o5MzVyFmgcqj",
        "outputId": "8956c348-4286-4788-dd99-a34623ad34fc"
      },
      "source": [
        "# Converting the lists to numpy arrays for Tensorflow 2.x\n",
        "training_padded = np.array(training_padded)\n",
        "training_labels = np.array(training_labels, dtype='int32')\n",
        "testing_padded = np.array(testing_padded)\n",
        "testing_labels = np.array(testing_labels, dtype='int32')\n",
        "\n",
        "print(training_padded.dtype)"
      ],
      "execution_count": 16,
      "outputs": [
        {
          "output_type": "stream",
          "text": [
            "int32\n"
          ],
          "name": "stdout"
        }
      ]
    },
    {
      "cell_type": "code",
      "metadata": {
        "colab": {
          "base_uri": "https://localhost:8080/"
        },
        "id": "5EgjDrSVHkZG",
        "outputId": "3de922f3-896e-4428-852a-2590d37faa40"
      },
      "source": [
        "# # Training the model\n",
        "num_epochs = 40\n",
        "history = model.fit(training_padded, training_labels, epochs=num_epochs, validation_data=(testing_padded, testing_labels), verbose=2)\n",
        "\n",
        "\n"
      ],
      "execution_count": null,
      "outputs": [
        {
          "output_type": "stream",
          "text": [
            "Epoch 1/40\n",
            "26384/26384 - 249s - loss: 0.6032 - accuracy: 0.6704 - val_loss: 0.5738 - val_accuracy: 0.6942\n",
            "Epoch 2/40\n",
            "26384/26384 - 239s - loss: 0.5705 - accuracy: 0.7031 - val_loss: 0.5717 - val_accuracy: 0.7006\n",
            "Epoch 3/40\n",
            "26384/26384 - 249s - loss: 0.5590 - accuracy: 0.7123 - val_loss: 0.5608 - val_accuracy: 0.7093\n",
            "Epoch 4/40\n",
            "26384/26384 - 240s - loss: 0.5498 - accuracy: 0.7185 - val_loss: 0.5632 - val_accuracy: 0.7053\n",
            "Epoch 5/40\n"
          ],
          "name": "stdout"
        }
      ]
    },
    {
      "cell_type": "code",
      "metadata": {
        "id": "xquPMRFenUW9",
        "colab": {
          "base_uri": "https://localhost:8080/",
          "height": 235
        },
        "outputId": "6b2f3e5a-f93d-41c3-9c29-01788b7b4a5c"
      },
      "source": [
        "sentence = [\"Yes, definitely\",\n",
        "            \"I like cats.\"]\n",
        "sequences = tokenizer.texts_to_sequences(sentence)\n",
        "padded = pad_sequences(sequences, maxlen=max_length, padding=padding_type, truncating=trunc_type)\n",
        "print(model.predict(padded))"
      ],
      "execution_count": 1,
      "outputs": [
        {
          "output_type": "error",
          "ename": "NameError",
          "evalue": "ignored",
          "traceback": [
            "\u001b[0;31m---------------------------------------------------------------------------\u001b[0m",
            "\u001b[0;31mNameError\u001b[0m                                 Traceback (most recent call last)",
            "\u001b[0;32m<ipython-input-1-ed91147d1ba3>\u001b[0m in \u001b[0;36m<module>\u001b[0;34m()\u001b[0m\n\u001b[1;32m      1\u001b[0m sentence = [\"Yes, definitely\",\n\u001b[1;32m      2\u001b[0m             \"I like cats.\"]\n\u001b[0;32m----> 3\u001b[0;31m \u001b[0msequences\u001b[0m \u001b[0;34m=\u001b[0m \u001b[0mtokenizer\u001b[0m\u001b[0;34m.\u001b[0m\u001b[0mtexts_to_sequences\u001b[0m\u001b[0;34m(\u001b[0m\u001b[0msentence\u001b[0m\u001b[0;34m)\u001b[0m\u001b[0;34m\u001b[0m\u001b[0;34m\u001b[0m\u001b[0m\n\u001b[0m\u001b[1;32m      4\u001b[0m \u001b[0mpadded\u001b[0m \u001b[0;34m=\u001b[0m \u001b[0mpad_sequences\u001b[0m\u001b[0;34m(\u001b[0m\u001b[0msequences\u001b[0m\u001b[0;34m,\u001b[0m \u001b[0mmaxlen\u001b[0m\u001b[0;34m=\u001b[0m\u001b[0mmax_length\u001b[0m\u001b[0;34m,\u001b[0m \u001b[0mpadding\u001b[0m\u001b[0;34m=\u001b[0m\u001b[0mpadding_type\u001b[0m\u001b[0;34m,\u001b[0m \u001b[0mtruncating\u001b[0m\u001b[0;34m=\u001b[0m\u001b[0mtrunc_type\u001b[0m\u001b[0;34m)\u001b[0m\u001b[0;34m\u001b[0m\u001b[0;34m\u001b[0m\u001b[0m\n\u001b[1;32m      5\u001b[0m \u001b[0mprint\u001b[0m\u001b[0;34m(\u001b[0m\u001b[0mmodel\u001b[0m\u001b[0;34m.\u001b[0m\u001b[0mpredict\u001b[0m\u001b[0;34m(\u001b[0m\u001b[0mpadded\u001b[0m\u001b[0;34m)\u001b[0m\u001b[0;34m)\u001b[0m\u001b[0;34m\u001b[0m\u001b[0;34m\u001b[0m\u001b[0m\n",
            "\u001b[0;31mNameError\u001b[0m: name 'tokenizer' is not defined"
          ]
        }
      ]
    }
  ]
}