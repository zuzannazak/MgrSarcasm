{
  "nbformat": 4,
  "nbformat_minor": 0,
  "metadata": {
    "colab": {
      "name": "mgr-SVM.ipynb",
      "provenance": [],
      "mount_file_id": "1d3L4iZlg3zArhtxro6HheWZX9DPjALFA",
      "authorship_tag": "ABX9TyMZe25Hkqo0mbDbqKN8baxm",
      "include_colab_link": true
    },
    "kernelspec": {
      "name": "python3",
      "display_name": "Python 3"
    },
    "language_info": {
      "name": "python"
    }
  },
  "cells": [
    {
      "cell_type": "markdown",
      "metadata": {
        "id": "view-in-github",
        "colab_type": "text"
      },
      "source": [
        "<a href=\"https://colab.research.google.com/github/zuzannazak/MgrSarcasm/blob/master/mgr_SVM.ipynb\" target=\"_parent\"><img src=\"https://colab.research.google.com/assets/colab-badge.svg\" alt=\"Open In Colab\"/></a>"
      ]
    },
    {
      "cell_type": "code",
      "metadata": {
        "id": "TsOx8g2wbwJU"
      },
      "source": [
        "from sklearn.feature_extraction.text import TfidfVectorizer, CountVectorizer\n",
        "\n",
        "from sklearn.metrics import confusion_matrix\n",
        "from sklearn.metrics import classification_report\n",
        "\n",
        "from sklearn.model_selection import cross_val_score\n",
        "from sklearn.model_selection import cross_val_predict\n",
        "from sklearn.model_selection import train_test_split\n",
        "\n",
        "from sklearn.svm import LinearSVC\n",
        "from sklearn.tree import DecisionTreeClassifier\n",
        "from sklearn import tree\n",
        "\n",
        "import csv\n",
        "import pandas as pd"
      ],
      "execution_count": null,
      "outputs": []
    },
    {
      "cell_type": "code",
      "metadata": {
        "id": "afu9IiW2cXaJ"
      },
      "source": [
        "sentences = []\n",
        "labels = []\n",
        "\n",
        "with open('/content/drive/MyDrive/STUDIA/train-balanced.csv', 'r') as file:\n",
        "    reader = csv.reader(file, delimiter='\\t')\n",
        "    for row in reader:\n",
        "        labels.append(row[0])\n",
        "        sentences.append(row[1])"
      ],
      "execution_count": null,
      "outputs": []
    },
    {
      "cell_type": "code",
      "metadata": {
        "colab": {
          "base_uri": "https://localhost:8080/"
        },
        "id": "GQTDqKGThOqZ",
        "outputId": "c90b9475-402b-440f-afb4-8e7a7b020c3d"
      },
      "source": [
        "print(pd.DataFrame({'sentence' : sentences[0:10], 'label':labels[0:10]}))"
      ],
      "execution_count": null,
      "outputs": [
        {
          "output_type": "stream",
          "text": [
            "                                            sentence label\n",
            "0                                   Dang dog, thanks     0\n",
            "1  to summon the powers of the flying spaghetti m...     0\n",
            "2       i did that 3rd last 1 by accident last night     0\n",
            "3  He's insane, used him in DC, better than Blake...     0\n",
            "4  Forgot about him, he's a pretty pointless card...     0\n",
            "5                                                hey     0\n",
            "6                                              yeah?     0\n",
            "7                                               okay     0\n",
            "8                                      Condensation?     0\n",
            "9                                What type of juice?     0\n"
          ],
          "name": "stdout"
        }
      ]
    },
    {
      "cell_type": "code",
      "metadata": {
        "id": "OC32R0mevw4-"
      },
      "source": [
        "X_train, X_test, y_train, y_test = train_test_split(sentences, labels, test_size=0.1, random_state=1337)"
      ],
      "execution_count": null,
      "outputs": []
    },
    {
      "cell_type": "code",
      "metadata": {
        "colab": {
          "base_uri": "https://localhost:8080/"
        },
        "id": "G6KjLxrAv44M",
        "outputId": "7bbed048-58cc-4d0b-eb45-d3a0ac561061"
      },
      "source": [
        "vectorizer = CountVectorizer()\n",
        "svm = LinearSVC()\n",
        "X_train = vectorizer.fit_transform(X_train)\n",
        "X_test = vectorizer.transform(X_test)\n",
        "_ = svm.fit(X_train, y_train)\n",
        "y_pred = svm.predict(X_test)\n",
        "print(classification_report(y_test, y_pred))"
      ],
      "execution_count": null,
      "outputs": [
        {
          "output_type": "stream",
          "text": [
            "/usr/local/lib/python3.7/dist-packages/sklearn/svm/_base.py:947: ConvergenceWarning: Liblinear failed to converge, increase the number of iterations.\n",
            "  \"the number of iterations.\", ConvergenceWarning)\n"
          ],
          "name": "stderr"
        },
        {
          "output_type": "stream",
          "text": [
            "              precision    recall  f1-score   support\n",
            "\n",
            "           0       0.67      0.71      0.69     56386\n",
            "           1       0.69      0.65      0.67     56182\n",
            "\n",
            "    accuracy                           0.68    112568\n",
            "   macro avg       0.68      0.68      0.68    112568\n",
            "weighted avg       0.68      0.68      0.68    112568\n",
            "\n"
          ],
          "name": "stdout"
        }
      ]
    }
  ]
}